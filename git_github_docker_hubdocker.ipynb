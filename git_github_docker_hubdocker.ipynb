{
  "nbformat": 4,
  "nbformat_minor": 0,
  "metadata": {
    "colab": {
      "name": "git_github_docker_hubdocker.ipynb",
      "provenance": [],
      "collapsed_sections": [],
      "authorship_tag": "ABX9TyO5Gp3WlRmW3py/jg/tlYdH",
      "include_colab_link": true
    },
    "kernelspec": {
      "name": "python3",
      "display_name": "Python 3"
    }
  },
  "cells": [
    {
      "cell_type": "markdown",
      "metadata": {
        "id": "view-in-github",
        "colab_type": "text"
      },
      "source": [
        "<a href=\"https://colab.research.google.com/github/themadan/20.Project_or_app_version_control_dependencies_handler_git_github_docker_dockerhub/blob/master/git_github_docker_hubdocker.ipynb\" target=\"_parent\"><img src=\"https://colab.research.google.com/assets/colab-badge.svg\" alt=\"Open In Colab\"/></a>"
      ]
    },
    {
      "cell_type": "markdown",
      "metadata": {
        "id": "FkhMAdoFHPE0",
        "colab_type": "text"
      },
      "source": [
        "# **Version control for our project.**\n",
        "Note: git and github are different things.\n",
        "\n",
        "And.\n",
        "\n",
        "Docker and hubdocker are different things.\n",
        "\n",
        "\n",
        "STEPS:\n",
        "\n",
        "1. Create acoount in server side(eg: github.com,hub.docker.com)\n",
        "\n",
        "2. Install in local machine(eg: git, docker) and login with server account.\n",
        "\n",
        "3. Now start you project \n",
        "\n",
        "4. Now version control and dependencies handeler are done inside our project.\n",
        "\n",
        "5. DO some process inside our project \n",
        "\n",
        "6. push it into the server(Eg: github, hubdocker)\n"
      ]
    },
    {
      "cell_type": "markdown",
      "metadata": {
        "id": "5T31MoamOGeq",
        "colab_type": "text"
      },
      "source": [
        "## [Git and Github](https://guides.github.com/)\n",
        "Git --help give the step by step process\n",
        "\n",
        "    git --help\n",
        "\n",
        "\n"
      ]
    },
    {
      "cell_type": "markdown",
      "metadata": {
        "id": "n4hvcvxpQC7E",
        "colab_type": "text"
      },
      "source": [
        "1. git clone(clone at proper location)\n",
        "\n",
        "\n",
        "Note: Below this steps, we done in inside our project\n",
        "2. git init\n",
        "3. git add .\n",
        "4. git branch (check branches)\n",
        "5. git commit -m 'message of commit'(commit in local machine)\n",
        "6. git checkout branchname or git switch branchname or in remote brance   git checkout -t origin/remote-branch_name(switch branch)\n",
        "7. git push\n",
        "\n",
        "\n",
        "Note: above all process are done in repo where we clone at step 1."
      ]
    },
    {
      "cell_type": "markdown",
      "metadata": {
        "id": "dgVRnKZb4ECS",
        "colab_type": "text"
      },
      "source": [
        "# **dependencies handler for our project**"
      ]
    },
    {
      "cell_type": "markdown",
      "metadata": {
        "id": "7RoOqh__4Myr",
        "colab_type": "text"
      },
      "source": [
        "Problem face while iam doing project.\n",
        "* Maile local machine ma project garya tyo project lai huraku or sathiko laptop ma lagda  mero mero project lai k k dependencies chinxa tyo kasari tha pauni?\n",
        "\n",
        "* So docker and virtualenvironment are most."
      ]
    },
    {
      "cell_type": "markdown",
      "metadata": {
        "id": "XlUtIBvGPz6D",
        "colab_type": "text"
      },
      "source": [
        "## [docker and hubdocker](https://docs.docker.com/)\n"
      ]
    },
    {
      "cell_type": "markdown",
      "metadata": {
        "id": "Df_YxknFZW5-",
        "colab_type": "text"
      },
      "source": [
        "* [Towarddatascience](https://towardsdatascience.com/build-a-docker-container-with-your-machine-learning-model-3cf906f5e07e)"
      ]
    },
    {
      "cell_type": "markdown",
      "metadata": {
        "id": "4aMipunnTmRl",
        "colab_type": "text"
      },
      "source": [
        "### 1. Docker file(starting point of docker)\n",
        "\n",
        "To get your code to a container, you need to create a Dockerfile, which tells Docker what you need in your application.\n",
        "\n",
        "A Dockerfile is a text document that contains all the commands a user could call on the command line to assemble an image.\n",
        "\n",
        "\n",
        "\n",
        "\n",
        "    FROM python:3.6-stretch\n",
        "    MAINTAINER Tina Bu <tina.hongbu@gmail.com>\n",
        "\n",
        "    # install build utilities\n",
        "    RUN apt-get update && \\\n",
        "\tapt-get install -y gcc make apt-transport-https ca-certificates build-essential\n",
        "\n",
        "    # check our python environment\n",
        "    RUN python3 --version\n",
        "    RUN pip3 --version\n",
        "\n",
        "    # set the working directory for containers\n",
        "    WORKDIR  /usr/src/<app-name>\n",
        "\n",
        "    # Installing python dependencies\n",
        "    COPY requirements.txt .\n",
        "    RUN pip install --no-cache-dir -r requirements.txt\n",
        "\n",
        "    # Copy all the files from the project’s root to the working directory\n",
        "    COPY src/ /src/\n",
        "    RUN ls -la /src/*\n",
        "\n",
        "    # Running Python Application\n",
        "    CMD [\"python3\", \"/src/app.py\"]\n",
        "\n",
        "\n",
        "\n",
        "\n",
        "\n"
      ]
    },
    {
      "cell_type": "markdown",
      "metadata": {
        "id": "CoSLtBTHYM-g",
        "colab_type": "text"
      },
      "source": [
        "1.1 Use Python stretch as Base Image\n",
        "\n",
        "People say instead of starting with a generic Ubuntu image, use an official base image like Alpine Python instead. Alpine Python is a really small Python Docker image based on Alpine Linux, much smaller than the default docker python images but still has everything needed for the most common python projects. But I have found it extremely difficult to work with especially for installing packages.\n",
        "\n",
        "A Ubuntu base image, on the other hand, will provide more predictable behavior but you need to install all the Python stuff yourself.\n",
        "\n",
        "So I suggest you start with Python 3.6 stretch, which is the official Python image based on Debian 9 (aka stretch). Python stretch comes with the Python environment and pip installed and up to date, all of which you need to figure out how to install if you choose Ubuntu."
      ]
    },
    {
      "cell_type": "markdown",
      "metadata": {
        "id": "eW399E2sTpDh",
        "colab_type": "text"
      },
      "source": [
        "### 2. Docker image**(mathiko project ko auta complete image banaidenxa  so yati image vayasi ta sakyo ni)**\n",
        "\n",
        "Note: you can create docker image from Dockerfile or docker-compose.yml"
      ]
    },
    {
      "cell_type": "markdown",
      "metadata": {
        "id": "veVzVpIDRn_o",
        "colab_type": "text"
      },
      "source": [
        "### 3. docker container\n"
      ]
    },
    {
      "cell_type": "markdown",
      "metadata": {
        "id": "8YQ09_2jXoCR",
        "colab_type": "text"
      },
      "source": [
        "## Docker vs virtual environment\n",
        "\n",
        "* A virtualenv only encapsulates Python dependencies. A Docker container encapsulates an entire OS.\n",
        "* With a Python virtualenv, you can easily switch between Python versions and dependencies, but you're stuck with your host OS.\n",
        "\n",
        "* With a Docker image, you can swap out the entire OS - install and run Python on Ubuntu, Debian, Alpine, even Windows Server Core.\n",
        "\n",
        "* Docker le virtual environment ko sabai kam gardenxa."
      ]
    },
    {
      "cell_type": "markdown",
      "metadata": {
        "id": "F3ceX3-GGyTo",
        "colab_type": "text"
      },
      "source": [
        " **Docker ma from vanyara hunxa ni tesle auta OS nai encapsulate garxa,  but virtualen ma ven vanni folder ma kam garirako hunxai python ko j j install garyau sab record eakxa ra paxi requirement.txt lai provide garauxa.**"
      ]
    },
    {
      "cell_type": "code",
      "metadata": {
        "id": "GdYhUamrX2cK",
        "colab_type": "code",
        "colab": {}
      },
      "source": [
        ""
      ],
      "execution_count": 0,
      "outputs": []
    }
  ]
}